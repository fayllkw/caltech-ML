{
 "cells": [
  {
   "cell_type": "markdown",
   "metadata": {},
   "source": [
    "#### The Perceptron Learning Algorithm"
   ]
  },
  {
   "cell_type": "code",
   "execution_count": 32,
   "metadata": {},
   "outputs": [],
   "source": [
    "import random\n",
    "import numpy as np"
   ]
  },
  {
   "cell_type": "code",
   "execution_count": 105,
   "metadata": {},
   "outputs": [],
   "source": [
    "def generate_sample(n):\n",
    "    return [np.array([1, random.uniform(-1,1), random.uniform(-1,1)]) for i in range(n)]\n",
    "\n",
    "def generate_target():\n",
    "    \"\"\"\n",
    "    return (a, c, d)\n",
    "    a and c are the parameters of a random line a*x1 + x2 + c = 0\n",
    "    d is a varialbe representing the direction of the target function. d is either 1 or -1.\n",
    "    y = sign(d*(a*x1 + x2 + c)).\n",
    "    \"\"\"\n",
    "    p1 = (random.uniform(-1,1), random.uniform(-1,1))\n",
    "    p2 = (random.uniform(-1,1), random.uniform(-1,1))\n",
    "    a = -(p2[1]-p1[1])/(p2[0]-p1[0])\n",
    "    c = -a*p2[0]-p2[1]\n",
    "    return (a, c, random.choice([-1,1]))\n",
    "\n",
    "def evaluate_point(x, f):\n",
    "    \"\"\"\n",
    "    x = [1, x1, x2], a numpy array.\n",
    "    f = (a, c, d).\n",
    "    return y = sign(d*(a*x1 + x2 + c)).\n",
    "    \"\"\"\n",
    "    x1, x2 = x[1], x[2]\n",
    "    a, c, d = f[0], f[1], f[2]\n",
    "    return np.sign(d*(a*x1 + x2 + c))\n",
    "\n",
    "def evaluate_points(X, f):\n",
    "    return [evaluate_point(x, f) for x in X]\n",
    "\n",
    "def perception_learning(X, y):\n",
    "    \"\"\"\n",
    "    Perception Learning Algorithm.\n",
    "    Input: data points X and labels y.\n",
    "    return number of iterations it and the predicted function w.\n",
    "    \"\"\"\n",
    "    w = np.array([0, 0, 0])\n",
    "    y_pred = [np.sign(np.dot(x, w)) for x in X]\n",
    "    mask = [p==t for p, t in zip(y_pred, y)]\n",
    "    misclassified_pts = [i for i,x in enumerate(mask) if not x]\n",
    "    it = 0\n",
    "    while misclassified_pts:\n",
    "        choice = random.choice(misclassified_pts)\n",
    "        w = w + y[choice]*X[choice]\n",
    "        y_pred = [np.sign(np.dot(x, w)) for x in X]\n",
    "        mask = [p==t for p, t in zip(y_pred, y)]\n",
    "        misclassified_pts = [i for i,x in enumerate(mask) if not x]\n",
    "        it += 1\n",
    "    return it, w\n",
    "\n",
    "def calculate_disagree_prob(f, w, n=100000):\n",
    "    X = generate_sample(n)\n",
    "    y_true = [evaluate_point(x, f) for x in X]\n",
    "    y_predict = [np.sign(np.dot(x, w)) for x in X]\n",
    "    mask = [p!=t for p,t in zip(y_true, y_predict)]\n",
    "    return sum(mask)/n"
   ]
  },
  {
   "cell_type": "markdown",
   "metadata": {},
   "source": [
    "7. Take $N = 10$. How many iterations does it take on average for the PLA to converge for $N = 10$ training points? Pick the value closest to your results.  \n",
    "[b] 15\n",
    "8. Which of the following is closest to $P[f(x) \\neq g(x)]$ for N = 10?  \n",
    "[c] 0.1  \n",
    "Got the answers from the following experiment."
   ]
  },
  {
   "cell_type": "code",
   "execution_count": 106,
   "metadata": {},
   "outputs": [
    {
     "name": "stdout",
     "output_type": "stream",
     "text": [
      "Average number of iterations: 9.276\n",
      "Probability that f and g will disagree: 10.63%\n"
     ]
    }
   ],
   "source": [
    "K, N, it, prob = 1000, 10, 0, 0\n",
    "for k in range(K):\n",
    "    X = generate_sample(N)\n",
    "    f = generate_target()\n",
    "    y = evaluate_points(X, f)\n",
    "    it_this, g = perception_learning(X, y)\n",
    "    it += it_this\n",
    "    prob += calculate_disagree_prob(f, g, 1000)\n",
    "it /= 1000\n",
    "prob /= 1000\n",
    "print(\"Average number of iterations to converge: {}\".format(it))\n",
    "print(\"Probability that f and g will disagree: {}%\".format(round(prob*100, 2)))"
   ]
  },
  {
   "cell_type": "markdown",
   "metadata": {},
   "source": [
    "9. Now, try $N = 100$. How many iterations does it take on average for the PLA to converge for $N = 100$ training points? Pick the value closest to your results.  \n",
    "[b] 100\n",
    "10. Which of the following is closest to $P[f(x)\\neg g(x)]$ for $N = 100$?  \n",
    "[b] 0.01  \n",
    "Got the answers from the following experiment."
   ]
  },
  {
   "cell_type": "code",
   "execution_count": 107,
   "metadata": {},
   "outputs": [
    {
     "name": "stdout",
     "output_type": "stream",
     "text": [
      "Average number of iterations: 101.546\n",
      "Probability that f and g will disagree: 1.29%\n"
     ]
    }
   ],
   "source": [
    "K, N, it, prob = 1000, 100, 0, 0\n",
    "for k in range(K):\n",
    "    X = generate_sample(N)\n",
    "    f = generate_target()\n",
    "    y = evaluate_points(X, f)\n",
    "    it_this, g = perception_learning(X, y)\n",
    "    it += it_this\n",
    "    prob += calculate_disagree_prob(f, g, 1000)\n",
    "it /= 1000\n",
    "prob /= 1000\n",
    "print(\"Average number of iterations: {}\".format(it))\n",
    "print(\"Probability that f and g will disagree: {}%\".format(round(prob*100, 2)))"
   ]
  },
  {
   "cell_type": "code",
   "execution_count": null,
   "metadata": {},
   "outputs": [],
   "source": []
  }
 ],
 "metadata": {
  "kernelspec": {
   "display_name": "Python 3",
   "language": "python",
   "name": "python3"
  },
  "language_info": {
   "codemirror_mode": {
    "name": "ipython",
    "version": 3
   },
   "file_extension": ".py",
   "mimetype": "text/x-python",
   "name": "python",
   "nbconvert_exporter": "python",
   "pygments_lexer": "ipython3",
   "version": "3.6.4"
  }
 },
 "nbformat": 4,
 "nbformat_minor": 2
}
